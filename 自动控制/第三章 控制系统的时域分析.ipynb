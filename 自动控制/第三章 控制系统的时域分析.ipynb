{
 "cells": [
  {
   "cell_type": "markdown",
   "metadata": {},
   "source": [
    "## 自动控制理论\n",
    "--- "
   ]
  },
  {
   "cell_type": "markdown",
   "metadata": {},
   "source": [
    "### 控制系统的时域分析"
   ]
  },
  {
   "cell_type": "code",
   "execution_count": 4,
   "metadata": {},
   "outputs": [
    {
     "data": {
      "text/latex": [
       "$\\displaystyle 3 \\left(4 - 3 e^{t}\\right) e^{- 4 t} \\theta\\left(t\\right) + 2 \\left(e^{t} - 1\\right) e^{- 4 t} \\theta\\left(t\\right) + \\mathcal{L}^{-1}_{s}\\left[\\frac{s^{2}}{s^{2} + 7 s + 12}\\right]\\left(t\\right)$"
      ],
      "text/plain": [
       "3*(4 - 3*exp(t))*exp(-4*t)*Heaviside(t) + 2*(exp(t) - 1)*exp(-4*t)*Heaviside(t) + InverseLaplaceTransform(s**2/(s**2 + 7*s + 12), s, t, _None)"
      ]
     },
     "execution_count": 4,
     "metadata": {},
     "output_type": "execute_result"
    }
   ],
   "source": [
    "from sympy import *\n",
    "from sympy.abc import s,t \n",
    "\n",
    "trans = (s+1)*(s+2)/(s+3)/(s+4)\n",
    "o1 = inverse_laplace_transform(trans,s,t)\n",
    "o2 = inverse_laplace_transform(trans.apart(s),s,t)\n"
   ]
  }
 ],
 "metadata": {
  "interpreter": {
   "hash": "63fd5069d213b44bf678585dea6b12cceca9941eaf7f819626cde1f2670de90d"
  },
  "kernelspec": {
   "display_name": "Python 3.9.7 64-bit",
   "language": "python",
   "name": "python3"
  },
  "language_info": {
   "codemirror_mode": {
    "name": "ipython",
    "version": 3
   },
   "file_extension": ".py",
   "mimetype": "text/x-python",
   "name": "python",
   "nbconvert_exporter": "python",
   "pygments_lexer": "ipython3",
   "version": "3.9.7"
  },
  "orig_nbformat": 4
 },
 "nbformat": 4,
 "nbformat_minor": 2
}
