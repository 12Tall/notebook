{
 "cells": [
  {
   "cell_type": "markdown",
   "metadata": {},
   "source": [
    "## 自动控制理论\n",
    "--- "
   ]
  },
  {
   "cell_type": "markdown",
   "metadata": {},
   "source": [
    "\n",
    "### 控制系统的数学模型  \n",
    "\n",
    "对于线性定常系统，常用以下四种模型来描述：微分方程、传递函数、结构图和信号流图。其中微分方程是基础，其他模型都是由微分方程演变来的。  \n",
    "另外，在时域中我们还会用差分方程描述离散时间系统、状态方程描述多输入多输出的系统。  \n",
    "\n",
    "列些微分方程的前提是熟悉系统各组件的物理特性，但是很多系统组件并非线性的，这就需要我们在某一范围内将非线性组件当作线性化处理。主要方法就是小偏差法：在元件工作点的邻域内把非线性特性函数展开为泰勒级数。"
   ]
  },
  {
   "cell_type": "markdown",
   "metadata": {},
   "source": [
    "### 拉普拉斯变换  \n",
    "通过拉普拉斯变换求解的一般过程：  \n",
    "1. 将微分方程进行拉普拉斯变换；  \n",
    "2. 将输入量、以及初始条件代入变换方程进行求解（关于输出$C(s)$的解）；  \n",
    "3. 将输出量的拉普拉斯变换函数转化为部分分式；  \n",
    "4. 对部分分式进行反变换，得到输出量的时域表达式$c(t)$。  \n"
   ]
  },
  {
   "cell_type": "markdown",
   "metadata": {},
   "source": [
    "#### 拉普拉斯变换的性质  \n",
    "\n",
    "> todo 补全拉普拉斯变换的性质\n",
    "\n",
    "微分性质：\n",
    "- $L[\\frac{du}{dt}]=sU(s)-U(0)$\n",
    "- $L[\\frac{d^2u}{dt^2}]=s^2U(s) - sU(0)-U'(0)$\n",
    "积分性质：  \n",
    "- $L[\\int{udt}]=\\frac{1}{s}U(s)$\n",
    "\n",
    "常见函数的拉普拉斯变换：\n",
    "- $\\delta(t) \\rarr 1$: DiracDelta(t), 狄拉克德尔塔, 单位冲击函数  \n",
    "- $\\theta(t) \\rarr \\frac{1}{s}$: Heaviside(t), 赫维赛德, 单位阶跃函数  \n",
    "- $cos(\\omega t) \\rarr \\frac{s}{s^2+\\omega^2}$: 余弦函数\n",
    "- $sin(\\omega t) \\rarr \\frac{\\omega}{s^2+\\omega^2}$: 正弦函数  \n",
    "- $e^{\\tau t} \\rarr \\frac{1}{s-\\tau}$: 自然底数的指数\n",
    "\n"
   ]
  },
  {
   "cell_type": "markdown",
   "metadata": {},
   "source": [
    "#### 传递函数  \n",
    "传递函数的一般形式：$G(s) = \\frac{C(s)}{R(s)} = \\frac{b_ms^m+b_{m-1}s^{m-1}...+b_1s+b_0}{a_ns^n+a_{n-1}s^{n-1}...+a_1s+a_0}$，可由系统的拉普拉斯变换方程得到。因为一般系统都具有惯性，所以$m \\le n$。  \n",
    "需要注意的是：  \n",
    "1. 传递函数只适用于线性定常系统  \n",
    "2. 传递函数与输入信号无关，表示系统的固有属性  \n",
    "3. 拉普拉斯逆变换，可由微分算子$p=\\frac{d}{dt}$替换复变量$s$，并用输入输出函数$c(t),r(t)$替换掉传递函数中的象函数$C(s),R(s)$得到  \n",
    "4. 传递函数是在系统零初始条件下定义的  \n",
    "5. 传递函数可以在零初始条件下通过输入单位冲激函数获得    \n",
    "\n",
    "\n",
    "例如：$G(s) = \\frac{C(s)}{R(s)} = \\frac{5}{s^2+3s+2}$  \n",
    "1. 将传递函数展开：$5R(s)=s^2C(s)+3sC(s)+2C(s)$   \n",
    "2. 用输入输出函数替换掉象函数：$5r(t)=s^2c(t)+3sc(t)+2c(t)$  \n",
    "3. 用$p=\\frac{d}{dt}$替换掉$s$：$5r(t)=\\frac{d^2c(t)}{dt^2}+3\\frac{dc(t)}{dt}+2c(t)$"
   ]
  },
  {
   "cell_type": "markdown",
   "metadata": {},
   "source": [
    "#### 典型环节的传递函数  \n",
    "以单位冲激函数$r(t) = \\delta(t)$作为输入  \n",
    "1. 比例环节：$c(t)=Kr(t) \\rarr G(s)=K$  \n",
    "2. 微分环节：$c(t)=\\frac{dr(t)}{dt} \\rarr G(s)=s$  \n",
    "3. 积分环节：$c(t)=\\int{r(t)dt} \\rarr G(s)=\\frac{1}{s}$  \n",
    "4. 惯性环节环节：$T\\frac{dc(t)}{dt}+c(t) = r(t) \\rarr G(s)=\\frac{1}{Ts+1}$，$c'(t)=\\frac{r(t)-c(t)}{T}$输出总是根据输入变化，但是变化率与$T$有关    \n",
    "5. 一阶微分环节：$c(t)=\\tau\\frac{dr(t)}{dt}+r(t) \\rarr G(s)=\\tau s+1$，相当于比例加微分  \n",
    "6. 二阶微分环节：$c(t)=\\tau^2\\frac{d^2r(t)}{dt^2}+ 2\\zeta\\tau\\frac{dr(t)}{dt}+r(t)+ r(t) \\rarr G(s)=\\tau^2s^2+2\\zeta\\tau s+1,, 0 < \\zeta <1$，相当于二次微分环节与一阶微分并联  \n",
    "7. 震荡环节：$T^2\\frac{d^2c(t)}{dt^2}+2T\\xi\\frac{dc(t)}{dt}+c(t)=r(t) \\rarr G(s)=\\frac{1}{T^2s^2+2\\xi Ts+1},, 0<\\xi < 1$  \n",
    "8. 延迟环节：$c(t)=r(t-\\tau) \\rarr G(s)=e^{-\\tau s}$\n"
   ]
  },
  {
   "cell_type": "markdown",
   "metadata": {},
   "source": [
    "### 梅森增益公式  \n",
    "课本上关于梅森增益公式的实现其实讲述的并不好，如果能给出推导过程则基本不用记各种余子式等复杂的概念：\n",
    "假设系统有5个节点：$n_1,n_2,n_3,n_4,n_5$。连接关系如下表所示，节点$n_1$为输入，$n_5$表示输出节点。 \n",
    "输入节点|输出节点|增益  \n",
    "---|---|---\n",
    "$n_1$|$n_2$|G1\n",
    "$n_2$|$n_3$|G2\n",
    "$n_3$|$n_4$|G3\n",
    "$n_4$|$n_5$|G4\n",
    "$n_4$|$n_2$|-H2\n",
    "$n_5$|$n_3$|-H3\n",
    "$n_5$|$n_1$|-H1  \n",
    " \n",
    "则有：  \n",
    "$$\\left\\{    \n",
    "    \\begin{array}{lllll}\n",
    "    n_1= & 0n_1   & + 0n_2   & + 0n_3   & + 0n_4   & + (-H_1)n_5 & + 1R(s) \\\\  \n",
    "    n_2= & G_1n_1 & + 0n_2   & + 0n_3   & + 0n_4   & + 0n_5      & + 0R(s) \\\\\n",
    "    n_3= & 0n_1   & + G_2n_2 & + 0n_3   & + 0n_4   & + (-H_3)n_5 & + 0R(s) \\\\\n",
    "    n_4= & 0n_1   & + 0n_2   & + G_3n_3 & + 0n_4   & + 0n_5      & + 0R(s) \\\\\n",
    "    n_5= & 0n_1   & + 0n_2   & + 0n_3   & + G_4n_4 & + 0n_5      & + 0R(s)\n",
    "    \\end{array}\n",
    "\\right. \\\\$$\n",
    "\n",
    "还可以写作矩阵的形式：  \n",
    "$$\\begin{vmatrix}\n",
    "n_1 \\\\\n",
    "n_2 \\\\\n",
    "n_3 \\\\\n",
    "n_4 \\\\\n",
    "n_5  \n",
    "\\end{vmatrix}\n",
    "=  \\pmb{A} \\cdot\n",
    "\\begin{vmatrix}\n",
    "n_1 \\\\\n",
    "n_2 \\\\\n",
    "n_3 \\\\\n",
    "n_4 \\\\\n",
    "n_5  \n",
    "\\end{vmatrix}\n",
    "+\n",
    "\\begin{vmatrix}\n",
    "R(s) \\\\\n",
    "0 \\\\\n",
    "0 \\\\\n",
    "0 \\\\\n",
    "0  \n",
    "\\end{vmatrix} \\\\\n",
    "\n",
    "即：\\vec{N}=\\pmb{A} \\cdot \\vec{N} + \\vec{v} \\cdot R(s)$$"
   ]
  },
  {
   "cell_type": "markdown",
   "metadata": {},
   "source": [
    "### 传递函数的概念  \n",
    "- $R(s)$：输入  \n",
    "- $D(s)$：扰动  \n",
    "- $C(s)$：输出  \n",
    "- $B(s)$：反馈  \n",
    "- $E(s)=R(s)-B(s)$：误差\n",
    "\n",
    "1. 开环传递函数：$G(s)=\\frac{B(s)}{E(s)}$  \n",
    "2. 闭环传递函数：  \n",
    "    a. 输入信号：$\\Phi_r(s)=\\frac{C(s)}{R(s)}$  \n",
    "    b. 扰动信号：$\\Phi_d(s)=\\frac{C(s)}{D(s)}$  \n",
    "    c. 系统总输出：$\\Phi(s)=\\Phi_r(s)R(s)+\\Phi_d(s)D(s)$   \n",
    "3. 误差传递函数：$\\Phi(s)=\\frac{E(s)}{R(s)}$"
   ]
  },
  {
   "cell_type": "code",
   "execution_count": 3,
   "metadata": {},
   "outputs": [
    {
     "name": "stdout",
     "output_type": "stream",
     "text": [
      "[ 1.  +0.j         -0.45+0.20207259j -0.45-0.20207259j]\n",
      "[ 0. +0.j        -0.5+0.8660254j -0.5-0.8660254j]\n",
      "[]\n"
     ]
    }
   ],
   "source": []
  }
 ],
 "metadata": {
  "interpreter": {
   "hash": "63fd5069d213b44bf678585dea6b12cceca9941eaf7f819626cde1f2670de90d"
  },
  "kernelspec": {
   "display_name": "Python 3.9.7 64-bit",
   "language": "python",
   "name": "python3"
  },
  "language_info": {
   "codemirror_mode": {
    "name": "ipython",
    "version": 3
   },
   "file_extension": ".py",
   "mimetype": "text/x-python",
   "name": "python",
   "nbconvert_exporter": "python",
   "pygments_lexer": "ipython3",
   "version": "3.9.7"
  },
  "orig_nbformat": 4
 },
 "nbformat": 4,
 "nbformat_minor": 2
}
