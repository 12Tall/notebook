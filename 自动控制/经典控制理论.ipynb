{
 "cells": [
  {
   "cell_type": "markdown",
   "metadata": {},
   "source": []
  },
  {
   "cell_type": "code",
   "execution_count": null,
   "metadata": {},
   "outputs": [],
   "source": [
    "from control import *     #导入control包，没有的可以使用pip install control命令进行安装\n",
    "from matplotlib import pyplot as plt    #导入matplotlib包进行绘图\n",
    "sy1 = tf([1],[4,4,1,8,1,2])     #将参数按照tf命令的格式赋值给sy1，前一个[]是分子中s的参数，第二个[]是分母s的参数\n",
    "rlocus(sy1,plotstr=[])\n",
    "plt.show()"
   ]
  },
  {
   "cell_type": "markdown",
   "metadata": {},
   "source": [
    "### 第一章 绪论  \n",
    "#### 控制系统框图中的概念  \n",
    "- $r(t)$: 给定输入  \n",
    "- $b(t)$: 反馈  \n",
    "- $e(t)$: 误差  \n",
    "- $u(t)$: 控制器的输出  \n",
    "- $c(t)$: 输出  \n",
    "- $d(t)$: 扰动  \n",
    "\n",
    "叠加性: $若有r_1(t) \\rarr c_1(t), r_2(t) \\rarr c_2(t), 则有r_1(t)+r_2(t) \\rarr c_1(t)+c_2(t)$  \n",
    "齐次性: $若有r(t) \\rarr c(t), 则有ar(t) \\rarr c(t)$   \n",
    "记住: $r(t)$ 是输入  "
   ]
  }
 ],
 "metadata": {
  "interpreter": {
   "hash": "63fd5069d213b44bf678585dea6b12cceca9941eaf7f819626cde1f2670de90d"
  },
  "kernelspec": {
   "display_name": "Python 3.9.7 64-bit",
   "language": "python",
   "name": "python3"
  },
  "language_info": {
   "codemirror_mode": {
    "name": "ipython",
    "version": 3
   },
   "file_extension": ".py",
   "mimetype": "text/x-python",
   "name": "python",
   "nbconvert_exporter": "python",
   "pygments_lexer": "ipython3",
   "version": "3.9.7"
  },
  "orig_nbformat": 4
 },
 "nbformat": 4,
 "nbformat_minor": 2
}
