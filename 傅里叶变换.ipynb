{
 "cells": [
  {
   "cell_type": "markdown",
   "metadata": {
    "tags": []
   },
   "source": [
    "## 傅里叶变换  \n",
    "> 仅帮助自己理解使用，并非严谨的数学证明。摘自知乎。  \n",
    "\n",
    "$\\int^{t_0+T}_{t_0}\\cos{x}\\,dx\\,=\\,-\\sin{x}|^{t_0+T}_{t_0}$ 因为$\\sin{x}$是周期为$T$的函数，所以积分的值为$0$。  \n",
    "\n",
    "### 三角函数的正交性  \n",
    "对于一个`三角函数系`：$1,\\,\\cos{x},\\,\\sin{x},\\,\\cos{(2x)},\\,\\sin{(2x)},\\,\\ldots,\\,\\cos{(nx)},\\,\\sin{(nx)}$，其中任何两个不同函数的积在区间$[t_0, t_0+T]$内的积分为$0$。$T=2\\pi$。  \n",
    "\n",
    "#### 三角级数  \n",
    "给定一个初始角频率$\\omega_0$对应周期为$T_0$，之后的角频率必须为$\\omega_0$的正整数倍，相应的周期也应缩短为$\\frac{T_0}{n}$，当$n\\rightarrow+\\infty$时，对应的周期趋近于$0$。\n",
    "\n",
    "### 傅里叶级数  \n",
    "对于一个周期为$T$的函数$f(t)$有：  \n",
    "\n",
    "$$\\begin{array}{lcc}\n",
    "    f(t) = & \\underbrace{A_0} & +\\,\\sum\\limits_{n=1}^{\\infty} {\\underbrace{[a_n\\cos{(n\\omega t)}+b_0\\sin{(n\\omega t)]}}}  \\\\  \n",
    "    & 直流分量 & \\cos{(n\\omega t + \\phi_n)}\n",
    "\\end{array}$$\n",
    "\n",
    "相当于用无穷多个正弦函数逼近  \n",
    "\n",
    "1. 对于直流分量。$\\int_{t_0}^{t_0+T}{f(t)}\\,dt = \\int_{t_0}^{t_0+T}{A_0}\\,dt = A_0T$，故$A_0=\\frac{\\int_{t_0}^{t_0+T}{f(t)}\\,dt}{T}$。令$a_0=2A_0$，则$a_0=\\frac{2}{T}\\int_{t_0}^{t_0+T}{f(t)}\\,dt$  \n",
    "2. 对于交流分量的第一部分$\\cos$。$int_{t_0}^{t_0+T}{f(t)\\cos{(n\\omega t)}}\\,dt = \\int_{t_0}^{t_0+T}{a_n\\cos^2{(n\\omega t)}}\\,dt=\\frac{a_n}{2}\\int_{t_0}^{t_0+T}{[1+\\underline{\\cos{(2n\\omega t)}]}}\\,dt=\\frac{a_n}{2}T$，  \n",
    "  故$a_n=\\frac{2}{T}\\int_{t_0}^{t_0+T}{f(t)\\cos{(n\\omega t)}}\\,dt$  \n",
    "3. 同理：$b_n=\\frac{2}{T}\\int_{t_0}^{t_0+T}{f(t)\\sin{(n\\omega t)}}\\,dt$  \n",
    "\n",
    "可得： \n",
    "$$\\begin{array}{lccccccc}\n",
    "    f(t) = & \\underbrace{\\frac{a_0}{2}} & + & \\sum\\limits_{n=1}^{\\infty}[ & \\underbrace{a_n\\cos{(n\\omega t)}} & + & \\underbrace{b_0\\sin{(n\\omega t)}}&]  \\\\  \n",
    "    & a_0=\\frac{2}{T}\\int_{t_0}^{t_0+T}{f(t)}\\,dt &&& a_n=\\frac{2}{T}\\int_{t_0}^{t_0+T}{f(t)\\cos{(n\\omega t)}}\\,dt && b_n=\\frac{2}{T}\\int_{t_0}^{t_0+T}{f(t)\\sin{(n\\omega t)}}\\,dt &\n",
    "\\end{array}$$"
   ]
  },
  {
   "cell_type": "markdown",
   "metadata": {},
   "source": [
    "### Latex 箭头上的文字\n",
    "\n",
    "```latex\n",
    "\\stackrel{a}{\\longrightarrow}  \n",
    "```\n",
    "$$\n",
    "\n",
    "\\begin{align*}\n",
    "x&=y           &  w &=z              &  a&=b+c\\\\\n",
    "2x&=-y         &  3w&=\\frac{1}{2}z   &  a&=b\\\\\n",
    "-4 + 5x&=2+y   &  w+2&=-1+w          &  ab&=cb\n",
    "\\end{align*}\n",
    "\n",
    "$$"
   ]
  },
  {
   "cell_type": "code",
   "execution_count": null,
   "metadata": {},
   "outputs": [],
   "source": []
  },
  {
   "cell_type": "code",
   "execution_count": null,
   "metadata": {},
   "outputs": [],
   "source": []
  }
 ],
 "metadata": {
  "kernelspec": {
   "display_name": "Python 3 (ipykernel)",
   "language": "python",
   "name": "python3"
  },
  "language_info": {
   "codemirror_mode": {
    "name": "ipython",
    "version": 3
   },
   "file_extension": ".py",
   "mimetype": "text/x-python",
   "name": "python",
   "nbconvert_exporter": "python",
   "pygments_lexer": "ipython3",
   "version": "3.9.7"
  }
 },
 "nbformat": 4,
 "nbformat_minor": 4
}
